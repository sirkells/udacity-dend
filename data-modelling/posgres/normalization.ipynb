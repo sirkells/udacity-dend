{
 "cells": [
  {
   "cell_type": "code",
   "execution_count": 58,
   "metadata": {},
   "outputs": [],
   "source": [
    "import psycopg2\n",
    "from psycopg2 import Error"
   ]
  },
  {
   "cell_type": "code",
   "execution_count": 2,
   "metadata": {},
   "outputs": [],
   "source": [
    "try:\n",
    "    conn = psycopg2.connect(\"dbname=studentdb user=student\")\n",
    "except Error as e:\n",
    "    print(\"Error: Could not make connection to the database\")\n",
    "    print(e)"
   ]
  },
  {
   "cell_type": "code",
   "execution_count": 3,
   "metadata": {},
   "outputs": [],
   "source": [
    "try:\n",
    "    cur = conn.cursor()\n",
    "except Error as e:\n",
    "    print(\"Error: Could not get cursor to the database\")\n",
    "    print(e)"
   ]
  },
  {
   "cell_type": "code",
   "execution_count": 4,
   "metadata": {},
   "outputs": [],
   "source": [
    "conn.set_session(autocommit=True)"
   ]
  },
  {
   "cell_type": "code",
   "execution_count": 10,
   "metadata": {},
   "outputs": [],
   "source": [
    "try:\n",
    "    cur.execute('create table if not exists music_library (album_id int, \\\n",
    "                                                           album_name varchar, \\\n",
    "                                                           artist_name varchar, year int, songs text[]);')\n",
    "except Error as e:\n",
    "    print(\"Error: Issue creating Table\")\n",
    "    print(e)"
   ]
  },
  {
   "cell_type": "code",
   "execution_count": 11,
   "metadata": {},
   "outputs": [],
   "source": [
    "data = [\n",
    "    (1, \"Rubber Soul\", \"The Beatles\", 1965, [\"Michelle\", \"Think For Yourself\", \"In My Life\"]),\n",
    "    (2, \"Let It Be\", \"The Beatles\", 1970, [\"Let It Be\", \"Accross The Universe\"])\n",
    "]"
   ]
  },
  {
   "cell_type": "code",
   "execution_count": 12,
   "metadata": {},
   "outputs": [],
   "source": [
    "for row in data:\n",
    "    try:\n",
    "        cur.execute('insert into music_library (album_id, album_name, artist_name, year, songs) \\\n",
    "                                                values (%s, %s, %s, %s, %s)', row)\n",
    "    except Error as e:\n",
    "        print(\"Error: Issue inserting Rows\")\n",
    "        print(e)"
   ]
  },
  {
   "cell_type": "code",
   "execution_count": 13,
   "metadata": {},
   "outputs": [
    {
     "name": "stdout",
     "output_type": "stream",
     "text": [
      "(1, 'Rubber Soul', 'The Beatles', 1965, ['Michelle', 'Think For Yourself', 'In My Life'])\n",
      "(2, 'Let It Be', 'The Beatles', 1970, ['Let It Be', 'Accross The Universe'])\n"
     ]
    }
   ],
   "source": [
    "try:\n",
    "    cur.execute('select * from music_library')\n",
    "except Error as e:\n",
    "    print(\"Error: Issue creating Table\")\n",
    "    print(e)\n",
    "\n",
    "row = cur.fetchone()\n",
    "while row:\n",
    "    print(row)\n",
    "    row = cur.fetchone()"
   ]
  },
  {
   "cell_type": "code",
   "execution_count": null,
   "metadata": {},
   "outputs": [],
   "source": [
    "{\n",
    "   \"cell_type\": \"markdown\",\n",
    "   \"metadata\": {},\n",
    "   \"source\": [\n",
    "    \"#### Moving to 1st Normal Form (1NF)\\n\",\n",
    "    \" of data. We need to break up the list of songs into individuals rows. \\n\",\n",
    "    \"\\n\",\n",
    "    \"\\n\",\n",
    "    \"`Table Name: music_library2\\n\",\n",
    "    \"column 0: Album Id\\n\",\n",
    "    \"column 1: Album Name\\n\",\n",
    "    \"column 2: Artist Name\\n\",\n",
    "    \"column 3: Year \\n\",\n",
    "    \"column 4: Song Name`\\n\",\n",
    "    \"\\n\",\n",
    "    \"<img src=\\\"images/table2.png\\\" width=\\\"650\\\" height=\\\"650\\\">\"\n",
    "   ]\n",
    "  },"
   ]
  },
  {
   "cell_type": "raw",
   "metadata": {},
   "source": [
    "1. How to reach First Normal Form (1NF):\n",
    "\n",
    "    Atomic values: each cell contains unique and single values\n",
    "    Be able to add data without altering tables\n",
    "    Separate different relations into different tables\n",
    "    Keep relationships between tables together with foreign keys\n",
    "\n",
    "2. Second Normal Form (2NF):\n",
    "    \n",
    "    Have reached 1NF\n",
    "    All columns in the table must rely on the Primary Key\n",
    "\n",
    "3. Third Normal Form (3NF):\n",
    "    Must be in 2nd Normal Form\n",
    "    No transitive dependencies\n",
    "    Remember, transitive dependencies you are trying to maintain is that to get from A-> C, \n",
    "    you want to avoid going through B."
   ]
  },
  {
   "cell_type": "markdown",
   "metadata": {},
   "source": [
    "## Moving to 1st Normal Form (1NF)"
   ]
  },
  {
   "cell_type": "raw",
   "metadata": {},
   "source": [
    "This data has not been normalized. \n",
    "To get this data into 1st normal form, we will need to remove any collections or list\n",
    "\n",
    "\"`Table Name: music_library2\n",
    "    \"column 0: Album Id\n",
    "    \"column 1: Album Name\n",
    "    \"column 2: Artist Name\n",
    "    \"column 3: Year\n",
    "    \"column 4: Song Name"
   ]
  },
  {
   "cell_type": "code",
   "execution_count": 26,
   "metadata": {},
   "outputs": [],
   "source": [
    "try:\n",
    "    cur.execute('create table if not exists music_library2 (album_id int, \\\n",
    "                                                           album_name varchar, \\\n",
    "                                                           artist_name varchar, year int, song_name varchar);')\n",
    "except Error as e:\n",
    "    print(\"Error: Issue creating Table\")\n",
    "    print(e)"
   ]
  },
  {
   "cell_type": "code",
   "execution_count": 27,
   "metadata": {},
   "outputs": [],
   "source": [
    "data2 = [\n",
    "    (1, \"Rubber Soul\", \"The Beatles\", 1965, \"Michelle\"),\n",
    "    (1, \"Rubber Soul\", \"The Beatles\", 1965, \"Think For Yourself\"),\n",
    "    (1, \"Rubber Soul\", \"The Beatles\", 1965, \"In My Life\"),\n",
    "    (2, \"Let It Be\", \"The Beatles\", 1970, \"Let It Be\"),\n",
    "    (2, \"Let It Be\", \"The Beatles\", 1970, \"Accross The Universe\")\n",
    "]"
   ]
  },
  {
   "cell_type": "code",
   "execution_count": 28,
   "metadata": {},
   "outputs": [],
   "source": [
    "for row in data2:\n",
    "    try:\n",
    "        cur.execute('insert into music_library2 (album_id, album_name, artist_name, year, song_name) \\\n",
    "                                                values (%s, %s, %s, %s, %s)', row)\n",
    "    except Error as e:\n",
    "        print(\"Error: Issue inserting Rows\")\n",
    "        print(e)"
   ]
  },
  {
   "cell_type": "code",
   "execution_count": 29,
   "metadata": {},
   "outputs": [
    {
     "name": "stdout",
     "output_type": "stream",
     "text": [
      "(1, 'Rubber Soul', 'The Beatles', 1965, 'Michelle')\n",
      "(1, 'Rubber Soul', 'The Beatles', 1965, 'Think For Yourself')\n",
      "(1, 'Rubber Soul', 'The Beatles', 1965, 'In My Life')\n",
      "(2, 'Let It Be', 'The Beatles', 1970, 'Let It Be')\n",
      "(2, 'Let It Be', 'The Beatles', 1970, 'Accross The Universe')\n"
     ]
    }
   ],
   "source": [
    "try:\n",
    "    cur.execute('select * from music_library2')\n",
    "except Error as e:\n",
    "    print(\"Error: Issue creating Table\")\n",
    "    print(e)\n",
    "\n",
    "row = cur.fetchone()\n",
    "while row:\n",
    "    print(row)\n",
    "    row = cur.fetchone()"
   ]
  },
  {
   "cell_type": "raw",
   "metadata": {},
   "source": [
    "Now the table is in 1NF. \n",
    "Each colunm has an atomic value:  unique and single value\n",
    "Each row is unique"
   ]
  },
  {
   "cell_type": "markdown",
   "metadata": {},
   "source": [
    "## Moving to 2nd Normal Form (2NF)"
   ]
  },
  {
   "cell_type": "raw",
   "metadata": {},
   "source": [
    "We have moved our data to be in 1NF which is the first step in moving to 2nd Normal Form. \n",
    "Our table is not yet in 2nd Normal Form. \n",
    "While each of our records in our table is unique, \n",
    "our Primary key (*album id*) is not unique. \n",
    "We need to break this up into two tables, *album library* and *song library*\",\n",
    "\n",
    "    \"`Table Name: album_library \\n\",\n",
    "    \"column 0: Album Id\\n\",\n",
    "    \"column 1: Album Name\\n\",\n",
    "    \"column 2: Artist Name\\n\",\n",
    "    \"column 3: Year `\\n\",\n",
    "    \"\\n\",\n",
    "    \"`Table Name: song_library\\n\",\n",
    "    \"column 0: Song Id\\n\",\n",
    "    \"column 1: Song Name\\n\",\n",
    "    \"column 3: Album Id` \\n\","
   ]
  },
  {
   "cell_type": "markdown",
   "metadata": {},
   "source": [
    "### create album_library table"
   ]
  },
  {
   "cell_type": "code",
   "execution_count": 23,
   "metadata": {},
   "outputs": [],
   "source": [
    "try:\n",
    "    cur.execute('create table if not exists album_library (album_id int, \\\n",
    "                                                           album_name varchar, \\\n",
    "                                                           artist_name varchar, year int);')\n",
    "except Error as e:\n",
    "    print(\"Error: Issue creating Table\")\n",
    "    print(e)"
   ]
  },
  {
   "cell_type": "markdown",
   "metadata": {},
   "source": [
    "### create song_library table"
   ]
  },
  {
   "cell_type": "code",
   "execution_count": 41,
   "metadata": {},
   "outputs": [],
   "source": [
    "try:\n",
    "    cur.execute('create table if not exists song_library (song_id int, \\\n",
    "                                                        album_id int, song_name varchar);')\n",
    "except Error as e:\n",
    "    print(\"Error: Issue creating Table\")\n",
    "    print(e)"
   ]
  },
  {
   "cell_type": "code",
   "execution_count": 30,
   "metadata": {},
   "outputs": [],
   "source": [
    "album_lib = [\n",
    "    (1, \"Rubber Soul\", \"The Beatles\", 1965),\n",
    "    (2, \"Let It Be\", \"The Beatles\", 1970)\n",
    "]"
   ]
  },
  {
   "cell_type": "code",
   "execution_count": 39,
   "metadata": {},
   "outputs": [],
   "source": [
    "song_lib = [\n",
    "    (1, 1, \"Michelle\"),\n",
    "    (2, 1, \"Think For Yourself\"),\n",
    "    (3, 1, \"In My Life\"),\n",
    "    (4, 2, \"Let It Be\"),\n",
    "    (5, 2, \"Accross The Universe\")\n",
    "]"
   ]
  },
  {
   "cell_type": "markdown",
   "metadata": {},
   "source": [
    "### Insert rows"
   ]
  },
  {
   "cell_type": "code",
   "execution_count": 32,
   "metadata": {},
   "outputs": [],
   "source": [
    "for album in album_lib:\n",
    "    try:\n",
    "        cur.execute('insert into album_library (album_id, album_name, artist_name, year) \\\n",
    "                                                values (%s, %s, %s, %s)', album)\n",
    "    except Error as e:\n",
    "        print(\"Error: Issue inserting Rows\")\n",
    "        print(e)"
   ]
  },
  {
   "cell_type": "code",
   "execution_count": 42,
   "metadata": {},
   "outputs": [],
   "source": [
    "for song in song_lib:\n",
    "    try:\n",
    "        cur.execute('insert into song_library (song_id, album_id, song_name) \\\n",
    "                                                values (%s, %s, %s)', song)\n",
    "    except Error as e:\n",
    "        print(\"Error: Issue inserting Rows\")\n",
    "        print(e)"
   ]
  },
  {
   "cell_type": "code",
   "execution_count": 43,
   "metadata": {},
   "outputs": [
    {
     "name": "stdout",
     "output_type": "stream",
     "text": [
      "(1, 'Rubber Soul', 'The Beatles', 1965)\n",
      "(2, 'Let It Be', 'The Beatles', 1970)\n"
     ]
    }
   ],
   "source": [
    "cur.execute('select * from album_library')\n",
    "row = cur.fetchone()\n",
    "while row:\n",
    "    print(row)\n",
    "    row = cur.fetchone()"
   ]
  },
  {
   "cell_type": "code",
   "execution_count": 50,
   "metadata": {},
   "outputs": [
    {
     "name": "stdout",
     "output_type": "stream",
     "text": [
      "(1, 1, 'Michelle')\n",
      "(2, 1, 'Think For Yourself')\n",
      "(3, 1, 'In My Life')\n",
      "(4, 2, 'Let It Be')\n",
      "(5, 2, 'Accross The Universe')\n"
     ]
    }
   ],
   "source": [
    "cur.execute('select * from song_library')\n",
    "row = cur.fetchone()\n",
    "while row:\n",
    "    print(row)\n",
    "    row = cur.fetchone()"
   ]
  },
  {
   "cell_type": "markdown",
   "metadata": {},
   "source": [
    "### Try running a Join using the column they both share"
   ]
  },
  {
   "cell_type": "code",
   "execution_count": 45,
   "metadata": {},
   "outputs": [],
   "source": [
    "try:\n",
    "    cur.execute('select * from album_library join \\\n",
    "                            song_library on album_library.album_id = song_library.album_id')\n",
    "except Error as e:\n",
    "        print(\"Error: Issue joining \")\n",
    "        print(e)\n",
    "    "
   ]
  },
  {
   "cell_type": "code",
   "execution_count": 46,
   "metadata": {},
   "outputs": [
    {
     "name": "stdout",
     "output_type": "stream",
     "text": [
      "(1, 'Rubber Soul', 'The Beatles', 1965, 1, 1, 'Michelle')\n",
      "(1, 'Rubber Soul', 'The Beatles', 1965, 2, 1, 'Think For Yourself')\n",
      "(1, 'Rubber Soul', 'The Beatles', 1965, 3, 1, 'In My Life')\n",
      "(2, 'Let It Be', 'The Beatles', 1970, 4, 2, 'Let It Be')\n",
      "(2, 'Let It Be', 'The Beatles', 1970, 5, 2, 'Accross The Universe')\n"
     ]
    }
   ],
   "source": [
    "row = cur.fetchone()\n",
    "while row:\n",
    "    print(row)\n",
    "    row = cur.fetchone()"
   ]
  },
  {
   "cell_type": "markdown",
   "metadata": {},
   "source": [
    "## Moving to 3rd Normal Form (3NF)"
   ]
  },
  {
   "cell_type": "raw",
   "metadata": {},
   "source": [
    "Check our table for any transitive dependencies. \n",
    "*Album_library* can move *Artist_name* to its own table, called *Artists*, \n",
    "which will leave us with 3 tables.\n",
    "\n",
    "    \"`Table Name: album_library2 \\n\",\n",
    "    \"column 0: Album Id\\n\",\n",
    "    \"column 1: Album Name\\n\",\n",
    "    \"column 2: Artist Id\\n\",\n",
    "    \"column 3: Year `\\n\",\n",
    "    \"\\n\",\n",
    "    \"`Table Name: song_library\\n\",\n",
    "    \"column 0: Song Id\\n\",\n",
    "    \"column 1: Song Name\\n\",\n",
    "    \"column 3: Album Id`\\n\",\n",
    "    \"\\n\",\n",
    "    \"`Table Name: artist_library\\n\",\n",
    "    \"column 0: Artist Id\\n\",\n",
    "    \"column 1: Artist Name `\\n\","
   ]
  },
  {
   "cell_type": "code",
   "execution_count": 56,
   "metadata": {},
   "outputs": [],
   "source": [
    "try:\n",
    "    cur.execute('create table if not exists album_library2 (album_id int, \\\n",
    "                                                        album_name varchar, artist_id int, year int);')\n",
    "except Error as e:\n",
    "    print(\"Error: Issue creating Table\")\n",
    "    print(e)"
   ]
  },
  {
   "cell_type": "code",
   "execution_count": 48,
   "metadata": {},
   "outputs": [],
   "source": [
    "try:\n",
    "    cur.execute('create table if not exists song_library (song_id int, \\\n",
    "                                                        album_id int, song_name varchar);')\n",
    "except Error as e:\n",
    "    print(\"Error: Issue creating Table\")\n",
    "    print(e)"
   ]
  },
  {
   "cell_type": "code",
   "execution_count": 49,
   "metadata": {},
   "outputs": [],
   "source": [
    "try:\n",
    "    cur.execute('create table if not exists artist_library (artist_id int, \\\n",
    "                                                        artist_name varchar);')\n",
    "except Error as e:\n",
    "    print(\"Error: Issue creating Table\")\n",
    "    print(e)"
   ]
  },
  {
   "cell_type": "code",
   "execution_count": 60,
   "metadata": {},
   "outputs": [],
   "source": [
    "album_lib2 = [\n",
    "    (1, \"Rubber Soul\", 1, 1965),\n",
    "    (2, \"Let It Be\", 1, 1970)\n",
    "]"
   ]
  },
  {
   "cell_type": "code",
   "execution_count": 52,
   "metadata": {},
   "outputs": [],
   "source": [
    "artist_lib = [\n",
    "    (1, \"The Beatles\"),\n",
    "]"
   ]
  },
  {
   "cell_type": "code",
   "execution_count": 61,
   "metadata": {},
   "outputs": [],
   "source": [
    "for album in album_lib2:\n",
    "    try:\n",
    "        cur.execute('insert into album_library2 (album_id, album_name, artist_id, year) \\\n",
    "                                                values (%s, %s, %s, %s)', album)\n",
    "    except Error as e:\n",
    "        print(\"Error: Issue inserting Rows\")\n",
    "        print(e)"
   ]
  },
  {
   "cell_type": "code",
   "execution_count": 63,
   "metadata": {},
   "outputs": [],
   "source": [
    "for artist in artist_lib:\n",
    "    try:\n",
    "        cur.execute('insert into artist_library (artist_id, artist_name) \\\n",
    "                                                values (%s, %s)', artist)\n",
    "    except Error as e:\n",
    "        print(\"Error: Issue inserting Rows\")\n",
    "        print(e)"
   ]
  },
  {
   "cell_type": "code",
   "execution_count": 64,
   "metadata": {},
   "outputs": [
    {
     "name": "stdout",
     "output_type": "stream",
     "text": [
      "(1, 'Rubber Soul', 1, 1965)\n",
      "(2, 'Let It Be', 1, 1970)\n"
     ]
    }
   ],
   "source": [
    "cur.execute('select * from album_library2')\n",
    "row = cur.fetchone()\n",
    "while row:\n",
    "    print(row)\n",
    "    row = cur.fetchone()"
   ]
  },
  {
   "cell_type": "code",
   "execution_count": 65,
   "metadata": {},
   "outputs": [
    {
     "name": "stdout",
     "output_type": "stream",
     "text": [
      "(1, 'The Beatles')\n"
     ]
    }
   ],
   "source": [
    "cur.execute('select * from artist_library')\n",
    "row = cur.fetchone()\n",
    "while row:\n",
    "    print(row)\n",
    "    row = cur.fetchone()"
   ]
  },
  {
   "cell_type": "markdown",
   "metadata": {},
   "source": [
    "### Join the three tables"
   ]
  },
  {
   "cell_type": "code",
   "execution_count": 67,
   "metadata": {},
   "outputs": [],
   "source": [
    "try:\n",
    "    cur.execute('select * from artist_library join album_library2 \\\n",
    "                            on artist_library.artist_id = album_library2.artist_id join \\\n",
    "                                song_library on album_library2.album_id = song_library.album_id')\n",
    "except Error as e:\n",
    "        print(\"Error: Issue joining \")\n",
    "        print(e)"
   ]
  },
  {
   "cell_type": "code",
   "execution_count": 68,
   "metadata": {},
   "outputs": [
    {
     "name": "stdout",
     "output_type": "stream",
     "text": [
      "(1, 'The Beatles', 1, 'Rubber Soul', 1, 1965, 1, 1, 'Michelle')\n",
      "(1, 'The Beatles', 1, 'Rubber Soul', 1, 1965, 2, 1, 'Think For Yourself')\n",
      "(1, 'The Beatles', 1, 'Rubber Soul', 1, 1965, 3, 1, 'In My Life')\n",
      "(1, 'The Beatles', 2, 'Let It Be', 1, 1970, 4, 2, 'Let It Be')\n",
      "(1, 'The Beatles', 2, 'Let It Be', 1, 1970, 5, 2, 'Accross The Universe')\n"
     ]
    }
   ],
   "source": [
    "row = cur.fetchone()\n",
    "while row:\n",
    "    print(row)\n",
    "    row = cur.fetchone()"
   ]
  },
  {
   "cell_type": "code",
   "execution_count": 71,
   "metadata": {},
   "outputs": [],
   "source": [
    "try:\n",
    "    cur.execute(\"DROP table music_library\")\n",
    "except psycopg2.Error as e:\n",
    "    print(\"Error: Dropping table\")\n",
    "    print(e)\n",
    "try:\n",
    "    cur.execute(\"DROP table music_library2\")\n",
    "except psycopg2.Error as e:\n",
    "    print(\"Error: Dropping table\")\n",
    "    print(e),\n",
    "try:\n",
    "    cur.execute(\"DROP table album_library\")\n",
    "except psycopg2.Error as e:\n",
    "    print(\"Error: Dropping table\")\n",
    "    print(e)\n",
    "try:\n",
    "    cur.execute(\"DROP table song_library\")\n",
    "except psycopg2.Error as e:\n",
    "    print(\"Error: Dropping table\")\n",
    "    print(e)\n",
    "try:\n",
    "    cur.execute(\"DROP table album_library2\")\n",
    "except psycopg2.Error as e:\n",
    "    print(\"Error: Dropping table\")\n",
    "    print(e)\n",
    "try:\n",
    "    cur.execute(\"DROP table artist_library\")\n",
    "except psycopg2.Error as e:\n",
    "    print(\"Error: Dropping table\")   \n",
    "    print(e)"
   ]
  },
  {
   "cell_type": "code",
   "execution_count": 72,
   "metadata": {},
   "outputs": [],
   "source": [
    "cur.close()\n",
    "conn.close()"
   ]
  },
  {
   "cell_type": "code",
   "execution_count": null,
   "metadata": {},
   "outputs": [],
   "source": []
  }
 ],
 "metadata": {
  "kernelspec": {
   "display_name": "Python 3",
   "language": "python",
   "name": "python3"
  },
  "language_info": {
   "codemirror_mode": {
    "name": "ipython",
    "version": 3
   },
   "file_extension": ".py",
   "mimetype": "text/x-python",
   "name": "python",
   "nbconvert_exporter": "python",
   "pygments_lexer": "ipython3",
   "version": "3.7.5"
  }
 },
 "nbformat": 4,
 "nbformat_minor": 2
}
